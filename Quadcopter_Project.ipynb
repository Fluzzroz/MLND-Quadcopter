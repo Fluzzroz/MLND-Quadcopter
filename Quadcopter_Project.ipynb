{
 "cells": [
  {
   "cell_type": "markdown",
   "metadata": {},
   "source": [
    "# Project: Train a Quadcopter How to Fly\n",
    "\n",
    "Design an agent to fly a quadcopter, and then train it using a reinforcement learning algorithm of your choice! \n",
    "\n",
    "Try to apply the techniques you have learnt, but also feel free to come up with innovative ideas and test them."
   ]
  },
  {
   "cell_type": "markdown",
   "metadata": {},
   "source": [
    "## Instructions\n",
    "\n",
    "Take a look at the files in the directory to better understand the structure of the project. \n",
    "\n",
    "- `task.py`: Define your task (environment) in this file.\n",
    "- `agents/`: Folder containing reinforcement learning agents.\n",
    "    - `policy_search.py`: A sample agent has been provided here.\n",
    "    - `agent.py`: Develop your agent here.\n",
    "- `physics_sim.py`: This file contains the simulator for the quadcopter.  **DO NOT MODIFY THIS FILE**.\n",
    "\n",
    "For this project, you will define your own task in `task.py`.  Although we have provided a example task to get you started, you are encouraged to change it.  Later in this notebook, you will learn more about how to amend this file.\n",
    "\n",
    "You will also design a reinforcement learning agent in `agent.py` to complete your chosen task.  \n",
    "\n",
    "You are welcome to create any additional files to help you to organize your code.  For instance, you may find it useful to define a `model.py` file defining any needed neural network architectures.\n",
    "\n",
    "## Controlling the Quadcopter\n",
    "\n",
    "We provide a sample agent in the code cell below to show you how to use the sim to control the quadcopter.  This agent is even simpler than the sample agent that you'll examine (in `agents/policy_search.py`) later in this notebook!\n",
    "\n",
    "The agent controls the quadcopter by setting the revolutions per second on each of its four rotors.  The provided agent in the `Basic_Agent` class below always selects a random action for each of the four rotors.  These four speeds are returned by the `act` method as a list of four floating-point numbers.  \n",
    "\n",
    "For this project, the agent that you will implement in `agents/agent.py` will have a far more intelligent method for selecting actions!"
   ]
  },
  {
   "cell_type": "code",
   "execution_count": null,
   "metadata": {},
   "outputs": [],
   "source": [
    "import random\n",
    "\n",
    "class Basic_Agent():\n",
    "    def __init__(self, task):\n",
    "        self.task = task\n",
    "    \n",
    "    def act(self):\n",
    "        new_thrust = random.gauss(450., 25.)\n",
    "        return [new_thrust + random.gauss(0., 1.) for x in range(4)]"
   ]
  },
  {
   "cell_type": "markdown",
   "metadata": {},
   "source": [
    "Run the code cell below to have the agent select actions to control the quadcopter.  \n",
    "\n",
    "Feel free to change the provided values of `runtime`, `init_pose`, `init_velocities`, and `init_angle_velocities` below to change the starting conditions of the quadcopter.\n",
    "\n",
    "The `labels` list below annotates statistics that are saved while running the simulation.  All of this information is saved in a text file `data.txt` and stored in the dictionary `results`.  "
   ]
  },
  {
   "cell_type": "code",
   "execution_count": null,
   "metadata": {},
   "outputs": [],
   "source": [
    "%load_ext autoreload\n",
    "%autoreload 2\n",
    "\n",
    "import csv\n",
    "import numpy as np\n",
    "from task import Task\n",
    "\n",
    "# Modify the values below to give the quadcopter a different starting position.\n",
    "runtime = 5.                                     # time limit of the episode\n",
    "init_pose = np.array([0., 0., 10., 0., 0., 0.])  # initial pose (x,y,z,phi,theta,psi)\n",
    "init_velocities = np.array([0., 0., 0.])         # initial velocities\n",
    "init_angle_velocities = np.array([0., 0., 0.])   # initial angle velocities\n",
    "file_output = 'data.txt'                         # file name for saved results\n",
    "#target_pos = None                                #default, which becomes [0., 0., 10.] and stands for [x,y,z]\n",
    "target_pos = 10.0 #my target, which stands for [z]\n",
    "# Setup\n",
    "task = Task(init_pose, init_velocities, init_angle_velocities, runtime, target_pos)\n",
    "agent = Basic_Agent(task)\n",
    "done = False\n",
    "labels = ['time', 'x', 'y', 'z', 'phi', 'theta', 'psi', 'x_velocity',\n",
    "          'y_velocity', 'z_velocity', 'phi_velocity', 'theta_velocity',\n",
    "          'psi_velocity', 'rotor_speed1', 'rotor_speed2', 'rotor_speed3', 'rotor_speed4']\n",
    "results = {x : [] for x in labels}\n",
    "\n",
    "# Run the simulation, and save the results.\n",
    "with open(file_output, 'w') as csvfile:\n",
    "    writer = csv.writer(csvfile)\n",
    "    writer.writerow(labels)\n",
    "    while True:\n",
    "        rotor_speeds = agent.act()\n",
    "        _, _, done = task.step(rotor_speeds)\n",
    "        to_write = [task.sim.time] + list(task.sim.pose) + list(task.sim.v) + list(task.sim.angular_v) + list(rotor_speeds)\n",
    "        for ii in range(len(labels)):\n",
    "            results[labels[ii]].append(to_write[ii])\n",
    "        writer.writerow(to_write)\n",
    "        if done:\n",
    "            break"
   ]
  },
  {
   "cell_type": "markdown",
   "metadata": {},
   "source": [
    "Run the code cell below to visualize how the position of the quadcopter evolved during the simulation."
   ]
  },
  {
   "cell_type": "code",
   "execution_count": null,
   "metadata": {},
   "outputs": [],
   "source": [
    "import matplotlib.pyplot as plt\n",
    "%matplotlib inline\n",
    "\n",
    "plt.plot(results['time'], results['x'], label='x')\n",
    "plt.plot(results['time'], results['y'], label='y')\n",
    "plt.plot(results['time'], results['z'], label='z')\n",
    "plt.legend()\n",
    "_ = plt.ylim()"
   ]
  },
  {
   "cell_type": "markdown",
   "metadata": {},
   "source": [
    "The next code cell visualizes the velocity of the quadcopter."
   ]
  },
  {
   "cell_type": "code",
   "execution_count": null,
   "metadata": {},
   "outputs": [],
   "source": [
    "plt.plot(results['time'], results['x_velocity'], label='v_x')\n",
    "plt.plot(results['time'], results['y_velocity'], label='v_y')\n",
    "plt.plot(results['time'], results['z_velocity'], label='v_z')\n",
    "plt.legend()\n",
    "_ = plt.ylim()"
   ]
  },
  {
   "cell_type": "markdown",
   "metadata": {},
   "source": [
    "Next, you can plot the Euler angles (the rotation of the quadcopter over the $x$-, $y$-, and $z$-axes),"
   ]
  },
  {
   "cell_type": "code",
   "execution_count": null,
   "metadata": {},
   "outputs": [],
   "source": [
    "plt.plot(results['time'], results['phi'], label='phi')\n",
    "plt.plot(results['time'], results['theta'], label='theta')\n",
    "plt.plot(results['time'], results['psi'], label='psi')\n",
    "plt.legend()\n",
    "_ = plt.ylim()"
   ]
  },
  {
   "cell_type": "markdown",
   "metadata": {},
   "source": [
    "before plotting the velocities (in radians per second) corresponding to each of the Euler angles."
   ]
  },
  {
   "cell_type": "code",
   "execution_count": null,
   "metadata": {},
   "outputs": [],
   "source": [
    "plt.plot(results['time'], results['phi_velocity'], label='v_phi')\n",
    "plt.plot(results['time'], results['theta_velocity'], label='v_theta')\n",
    "plt.plot(results['time'], results['psi_velocity'], label='v_psi')\n",
    "plt.legend()\n",
    "_ = plt.ylim()"
   ]
  },
  {
   "cell_type": "markdown",
   "metadata": {},
   "source": [
    "Finally, you can use the code cell below to print the agent's choice of actions.  "
   ]
  },
  {
   "cell_type": "code",
   "execution_count": null,
   "metadata": {},
   "outputs": [],
   "source": [
    "plt.plot(results['time'], results['rotor_speed1'], label='Rotor 1 revolutions / second')\n",
    "plt.plot(results['time'], results['rotor_speed2'], label='Rotor 2 revolutions / second')\n",
    "plt.plot(results['time'], results['rotor_speed3'], label='Rotor 3 revolutions / second')\n",
    "plt.plot(results['time'], results['rotor_speed4'], label='Rotor 4 revolutions / second')\n",
    "plt.legend()\n",
    "_ = plt.ylim()"
   ]
  },
  {
   "cell_type": "markdown",
   "metadata": {},
   "source": [
    "When specifying a task, you will derive the environment state from the simulator.  Run the code cell below to print the values of the following variables at the end of the simulation:\n",
    "- `task.sim.pose` (the position of the quadcopter in ($x,y,z$) dimensions and the Euler angles),\n",
    "- `task.sim.v` (the velocity of the quadcopter in ($x,y,z$) dimensions), and\n",
    "- `task.sim.angular_v` (radians/second for each of the three Euler angles)."
   ]
  },
  {
   "cell_type": "code",
   "execution_count": null,
   "metadata": {},
   "outputs": [],
   "source": [
    "# the pose, velocity, and angular velocity of the quadcopter at the end of the episode\n",
    "print(task.sim.pose)\n",
    "print(task.sim.v)\n",
    "print(task.sim.angular_v)"
   ]
  },
  {
   "cell_type": "markdown",
   "metadata": {},
   "source": [
    "In the sample task in `task.py`, we use the 6-dimensional pose of the quadcopter to construct the state of the environment at each timestep.  However, when amending the task for your purposes, you are welcome to expand the size of the state vector by including the velocity information.  You can use any combination of the pose, velocity, and angular velocity - feel free to tinker here, and construct the state to suit your task.\n",
    "\n",
    "## The Task\n",
    "\n",
    "A sample task has been provided for you in `task.py`.  Open this file in a new window now. \n",
    "\n",
    "The `__init__()` method is used to initialize several variables that are needed to specify the task.  \n",
    "- The simulator is initialized as an instance of the `PhysicsSim` class (from `physics_sim.py`).  \n",
    "- Inspired by the methodology in the original DDPG paper, we make use of action repeats.  For each timestep of the agent, we step the simulation `action_repeats` timesteps.  If you are not familiar with action repeats, please read the **Results** section in [the DDPG paper](https://arxiv.org/abs/1509.02971).\n",
    "- We set the number of elements in the state vector.  For the sample task, we only work with the 6-dimensional pose information.  To set the size of the state (`state_size`), we must take action repeats into account.  \n",
    "- The environment will always have a 4-dimensional action space, with one entry for each rotor (`action_size=4`). You can set the minimum (`action_low`) and maximum (`action_high`) values of each entry here.\n",
    "- The sample task in this provided file is for the agent to reach a target position.  We specify that target position as a variable.\n",
    "\n",
    "The `reset()` method resets the simulator.  The agent should call this method every time the episode ends.  You can see an example of this in the code cell below.\n",
    "\n",
    "The `step()` method is perhaps the most important.  It accepts the agent's choice of action `rotor_speeds`, which is used to prepare the next state to pass on to the agent.  Then, the reward is computed from `get_reward()`.  The episode is considered done if the time limit has been exceeded, or the quadcopter has travelled outside of the bounds of the simulation.\n",
    "\n",
    "In the next section, you will learn how to test the performance of an agent on this task."
   ]
  },
  {
   "cell_type": "markdown",
   "metadata": {},
   "source": [
    "## The Agent\n",
    "\n",
    "The sample agent given in `agents/policy_search.py` uses a very simplistic linear policy to directly compute the action vector as a dot product of the state vector and a matrix of weights. Then, it randomly perturbs the parameters by adding some Gaussian noise, to produce a different policy. Based on the average reward obtained in each episode (`score`), it keeps track of the best set of parameters found so far, how the score is changing, and accordingly tweaks a scaling factor to widen or tighten the noise.\n",
    "\n",
    "Run the code cell below to see how the agent performs on the sample task."
   ]
  },
  {
   "cell_type": "code",
   "execution_count": null,
   "metadata": {},
   "outputs": [],
   "source": [
    "import sys\n",
    "import pandas as pd\n",
    "from agents.policy_search import PolicySearch_Agent\n",
    "from task import Task\n",
    "\n",
    "num_episodes = 100\n",
    "\n",
    "#for the default reward function\n",
    "#target_pos = np.array([0., 0., 10.])\n",
    "\n",
    "#using my modified reward function\n",
    "target_pos = 10.0\n",
    "\n",
    "task = Task(target_pos=target_pos)\n",
    "agent = PolicySearch_Agent(task) \n",
    "\n",
    "for i_episode in range(1, num_episodes+1):\n",
    "    state = agent.reset_episode() # start a new episode\n",
    "    while True:\n",
    "        action = agent.act(state)\n",
    "        next_state, reward, done = task.step(action)\n",
    "        agent.step(reward, done)\n",
    "        state = next_state\n",
    "        if done:\n",
    "            print(\"\\rEpisode = {:4d}, score = {:7.3f} (best = {:7.3f}), noise_scale = {}\".format(\n",
    "                i_episode, agent.score, agent.best_score, agent.noise_scale), flush=True, end=\"\")\n",
    "            break\n"
   ]
  },
  {
   "cell_type": "markdown",
   "metadata": {},
   "source": [
    "This agent should perform very poorly on this task.  And that's where you come in!"
   ]
  },
  {
   "cell_type": "markdown",
   "metadata": {
    "collapsed": true
   },
   "source": [
    "## Define the Task, Design the Agent, and Train Your Agent!\n",
    "\n",
    "Amend `task.py` to specify a task of your choosing.  If you're unsure what kind of task to specify, you may like to teach your quadcopter to takeoff, hover in place, land softly, or reach a target pose.  \n",
    "\n",
    "After specifying your task, use the sample agent in `agents/policy_search.py` as a template to define your own agent in `agents/agent.py`.  You can borrow whatever you need from the sample agent, including ideas on how you might modularize your code (using helper methods like `act()`, `learn()`, `reset_episode()`, etc.).\n",
    "\n",
    "Note that it is **highly unlikely** that the first agent and task that you specify will learn well.  You will likely have to tweak various hyperparameters and the reward function for your task until you arrive at reasonably good behavior.\n",
    "\n",
    "As you develop your agent, it's important to keep an eye on how it's performing. Use the code above as inspiration to build in a mechanism to log/save the total rewards obtained in each episode to file.  If the episode rewards are gradually increasing, this is an indication that your agent is learning."
   ]
  },
  {
   "cell_type": "code",
   "execution_count": 1,
   "metadata": {},
   "outputs": [
    {
     "name": "stderr",
     "output_type": "stream",
     "text": [
      "Using TensorFlow backend.\n"
     ]
    },
    {
     "name": "stdout",
     "output_type": "stream",
     "text": [
      "Episode =  200,     total_reward =    59.103     (best =   233.820)"
     ]
    }
   ],
   "source": [
    "## TODO: Train your agent here.\n",
    "#my target is to get the quadcopter stabilized, in other words, to stop moving, regardless of its position.\n",
    "#Imagine someone throws the quadcopter in the air before turning it on, \n",
    "#or for some reason the quadcopter loses communication with its pilot; in both cases we want it to stay where it is, midair\n",
    "import sys, shutil, csv\n",
    "import numpy as np\n",
    "from agents.agent import Actor, Critic, DDPG\n",
    "from task import Task\n",
    "\n",
    "\n",
    "num_episodes = 200\n",
    "\n",
    "\n",
    "runtime = 5.                                               # time limit of the episode\n",
    "init_pose = np.array([0.0, 0.0, 1.0, 0.0, 0.0, 0.0])       # initial pose (x,y,z,phi,theta,psi); \n",
    "init_velocities = np.array([0.0, 0.0, 0.0])                # initial velocities\n",
    "init_angle_velocities = np.array([0.0, 0.0, 0.0])          # initial angle velocities\n",
    "current_sim_filename = \"current_sim.txt\"                   # file name for saved results\n",
    "best_sim_filename = \"best_sim.txt\"                         # file name for saved results\n",
    "target_pos = 10.0                                          #target position, which is [z]; ie: lift off and hover\n",
    "\n",
    "\n",
    "task = Task(init_pose=init_pose, init_velocities=init_velocities, \n",
    "        init_angle_velocities=init_angle_velocities, runtime=runtime, target_pos=target_pos)\n",
    "agent = DDPG(task) \n",
    "\n",
    "\n",
    "labels = ['time', 'x', 'y', 'z', 'phi', 'theta', 'psi', 'x_velocity',\n",
    "          'y_velocity', 'z_velocity', 'phi_velocity', 'theta_velocity',\n",
    "          'psi_velocity']\n",
    "\n",
    "best_reward = -np.inf\n",
    "rewards = []\n",
    "\n",
    "for i_episode in range(1, num_episodes+1):\n",
    "    state = agent.reset_episode() # start a new episode\n",
    "    total_reward = 0\n",
    "\n",
    "    with open(current_sim_filename, 'w') as csvfile:\n",
    "        writer = csv.writer(csvfile)\n",
    "        writer.writerow(labels)\n",
    "        while True:\n",
    "            #running the simulation\n",
    "            action = agent.act(state)\n",
    "            action4 = action*4\n",
    "            next_state, reward, done = task.step(action4)\n",
    "            agent.step(action, reward, next_state, done)\n",
    "            state = next_state       \n",
    "            total_reward += reward\n",
    "\n",
    "            #saving the current simulation on file\n",
    "            to_write = [task.sim.time] + list(task.sim.pose) + list(task.sim.v) + list(task.sim.angular_v)\n",
    "            writer.writerow(to_write)\n",
    "            \n",
    "            if done:\n",
    "                #check to see if we found a new best simulation and if so, update\n",
    "                if total_reward > best_reward:\n",
    "                    best_reward = total_reward\n",
    "                    shutil.copyfile(current_sim_filename, best_sim_filename)\n",
    "                    \n",
    "                \n",
    "                #save and print current results\n",
    "                rewards.append(total_reward)\n",
    "                print(\"\\rEpisode = {:4d},     total_reward = {:9.3f}     (best = {:9.3f})\".format(\n",
    "                    i_episode, total_reward, best_reward), end=\"\", flush=True)                                \n",
    "                break\n",
    "\n",
    "#hard save the rewards per episode because the notebook often loses connexion and thus its variable space\n",
    "with open(\"rewards.txt\", \"w\") as csvfile:\n",
    "    writer = csv.writer(csvfile)\n",
    "    writer.writerow(rewards)\n",
    "    \n",
    "    \n",
    "    "
   ]
  },
  {
   "cell_type": "markdown",
   "metadata": {
    "collapsed": true
   },
   "source": [
    "## Plot the Rewards\n",
    "\n",
    "Once you are satisfied with your performance, plot the episode rewards, either from a single run, or averaged over multiple runs. "
   ]
  },
  {
   "cell_type": "code",
   "execution_count": 3,
   "metadata": {},
   "outputs": [
    {
     "name": "stdout",
     "output_type": "stream",
     "text": [
      "Results of the simulation: current_sim.txt\n"
     ]
    },
    {
     "data": {
      "image/png": "[encoded data removed]",
      "text/plain": [
       "<matplotlib.figure.Figure at 0x7fcfed3cd470>"
      ]
     },
     "metadata": {},
     "output_type": "display_data"
    }
   ],
   "source": [
    "#Plot the best simulation to see if there were unusual stuff(like going out of bounds) and how well it achieved its goal\n",
    "import pandas as pd\n",
    "import matplotlib.pyplot as plt\n",
    "\n",
    "\n",
    "#sim_filename = \"best_sim.txt\"\n",
    "sim_filename = \"current_sim.txt\"\n",
    "\n",
    "sim = pd.read_csv(sim_filename)\n",
    "print(\"Results of the simulation:\", sim_filename)\n",
    "\n",
    "plt.subplots(figsize=(16,3))\n",
    "plt.subplot(141)\n",
    "plt.plot(sim['time'], sim['x'], label='x')\n",
    "plt.plot(sim['time'], sim['y'], label='y')\n",
    "plt.plot(sim['time'], sim['z'], label='z')\n",
    "plt.title(\"Position (goal: z = 10)\")\n",
    "plt.legend()\n",
    "plt.subplot(142)\n",
    "plt.plot(sim['time'], sim['x_velocity'], label='v_x')\n",
    "plt.plot(sim['time'], sim['y_velocity'], label='v_y')\n",
    "plt.plot(sim['time'], sim['z_velocity'], label='v_z')\n",
    "plt.title(\"Velocities (goal: |v| small)\")\n",
    "plt.legend()\n",
    "plt.subplot(143)\n",
    "plt.plot(sim['time'], sim['phi'], label='phi')\n",
    "plt.plot(sim['time'], sim['theta'], label='theta')\n",
    "plt.plot(sim['time'], sim['psi'], label='psi')\n",
    "plt.title(\"Orientation (no goal)\")\n",
    "plt.legend()\n",
    "plt.subplot(144)\n",
    "plt.plot(sim['time'], sim['phi_velocity'], label='v_phi')\n",
    "plt.plot(sim['time'], sim['theta_velocity'], label='v_theta')\n",
    "plt.plot(sim['time'], sim['psi_velocity'], label='v_psi')\n",
    "plt.title(\"Angular velocities (no goal)\")\n",
    "plt.legend()\n",
    "plt.show()\n"
   ]
  },
  {
   "cell_type": "code",
   "execution_count": 4,
   "metadata": {},
   "outputs": [
    {
     "data": {
      "image/png": "[encoded data removed]",
      "text/plain": [
       "<matplotlib.figure.Figure at 0x7fcffb12a518>"
      ]
     },
     "metadata": {},
     "output_type": "display_data"
    }
   ],
   "source": [
    "##TODO: plot the rewards\n",
    "import pandas as pd\n",
    "import matplotlib.pyplot as plt\n",
    "\n",
    "load_rewards = pd.read_csv(\"rewards.txt\", header=None)\n",
    "load_rewards = load_rewards.T\n",
    "\n",
    "plt.figure(figsize=(8, 6))\n",
    "plt.plot(load_rewards[:])\n",
    "plt.title(\"Total reward after each episode\")\n",
    "\n",
    "#Sometimes there are enormous dips (ex: most values varie between -200 and 0, but a couple go to -15000)\n",
    "#This makes the scale so large we don't see the curve very well.\n",
    "#We can fix this by cutting the graph using ylim:\n",
    "#plt.ylim(-100,10)\n",
    "\n",
    "plt.show()"
   ]
  },
  {
   "cell_type": "markdown",
   "metadata": {
    "collapsed": true
   },
   "source": [
    "## Reflections\n",
    "\n",
    "**Question 1**: Describe the task that you specified in `task.py`.  How did you design the reward function?\n",
    "\n",
    "**Answer**: *The task is to take-off (from height 1, because height 0 causes the simulation to stop) and hover at height 10.\n",
    "Initially I had a reward that took into account way too much information (all x-y-z and angular positions and speeds). The result was a very chaotic agent that would never converge on anything and its reward would oscillate between -15000 and +20 000. So I simplified it to care only about the z position and the z velocity. My function gives a base reward of 1 for every step, thus creating an incentive to keep the episode running as long as possible, hopefully to get the quadcopter to hover once it reaches its target position. I then added a penalty based on the difference between its current height and the target height. The agent is thus incentivised to stay as close as possible to the target position. However, I had trouble getting good results, and often the agent would crash, deciding that an early termination was the best way to amass a not too large debt. So I reduced the weight of that penalty to 0.01. It still caused issue, because if the weight is too low, then the agent simply flies off into the distance and reaps the +1 baseline reward for a long episode. So I tampered it with a penalty for its z velocity. This effectively creates an incentive for the agent to keep a z speed as close to 0 as possible. This way the agent should take off more slowly, thus not overshoot his target height too much, and ideally it would hover at the target height with 0 z velocity. At least that's the goal, because the agent currently flies off at max speed.* \n",
    "\n",
    "*In order to reduce the amount of information being fed to the agent, I changed the action-state space in the task. Now instead of having 4 rotors to control, the agent only has 1 and its speed is being fed to all four rotors in the simulation. This avoids lateral movement and allows the agent to focus on only target to optimize. Also, I removed all the environment information except the z-position being fed to the agent. This is especially useful since all angular positions and velocities as well as x and y positions and velocities remain at 0 all the time since all 4 rotors are bound to the same speed.*\n",
    "\n",
    "*I think the reward function is what has the most impact on the agent. I tried changing the actor-critique model a lot, but it never led to such dramatic changes in behavior as the reward function does.*"
   ]
  },
  {
   "cell_type": "markdown",
   "metadata": {},
   "source": [
    "**Question 2**: Discuss your agent briefly, using the following questions as a guide:\n",
    "\n",
    "- What learning algorithm(s) did you try? What worked best for you?\n",
    "- What was your final choice of hyperparameters (such as $\\alpha$, $\\gamma$, $\\epsilon$, etc.)?\n",
    "- What neural network architecture did you use (if any)? Specify layers, sizes, activation functions, etc.\n",
    "\n",
    "**Answer**: * I used the actor-critique algorithm as suggested. I tried to add tons of layers and batch normalization and increase the number of nodes and add regularization, but nothing beat the default architecture. Adding more layers only increases complexity and reduces compute time without any added benefit to the convergence of the agent.*\n",
    "\n",
    "*I also played with all hyperparameters, but the default seemed the best. For instance: increasing the buffer size and batch size slow down the computation time without increasing accuracy. Reducing the gamma (discount factor) causes the agent to focus more on short term goals. This made him favor crashing scenarios, but it is less impactful than changing the reward function. Increasing tau adds more volatilty to the agent's learning, making it longer to converge. Changing mu (long-term convergence of the noise) means that there will always be noise and thus the agent will never stop exploring. This prevents it from converging to a solution, or if you let it run long enough (2000+ episodes) you will see it oscillate between the same two very similar rewards. Changing theta (rate of reversion to mean for the noise) determines how long the agent will keep exploring. Increase it for longer convergence and hoping to get out of local minimas. What I found was that it only increased the volality and did not help in finding a better solution. Same thing with sigma, the starting volatilty of the noise.*\n",
    "\n",
    "*I found that changing the hyperparameters slightly had no or little visible effect on the agent's learning, and changing the parameters drastically broke the model (learning becomes all over the place and never converges). Also, some hyperparameters have the same effect as changing the reward function. For example, reducing the baseline reward is the same as reducing gamma.*"
   ]
  },
  {
   "cell_type": "markdown",
   "metadata": {},
   "source": [
    "**Question 3**: Using the episode rewards plot, discuss how the agent learned over time.\n",
    "\n",
    "- Was it an easy task to learn or hard?\n",
    "- Was there a gradual learning curve, or an aha moment?\n",
    "- How good was the final performance of the agent? (e.g. mean rewards over the last 10 episodes)\n",
    "\n",
    "**Answer**: *I think it is hard. The agent gets a random lucky guess in the beginning, and then falls into a pit of terrible solution, then gets a random good run, before settling for an OK solution. All throughout, the curve is mostly flat, it's a series of plateaus. The final performance in the current setting is 59.* \n",
    "\n",
    "*The current setting is a result of the simplifications I did to the task and agent. Now the problem is so simplified that there are a couple of solutions with consistent rewards regardless of the small exploration noise; each plateau is one such solution. In other attempts, when there were more variable fed to the agent, the reward per episode was extremely volatile. A typical run would change frantically between +26000 and -40000 in the first few hundred episodes, settle for a while at -200, jump to a single miraculous episode, fall in a pit again, and eventually converge on -1200 for the last 1000 episodes.*\n",
    "\n",
    "*Another typical behavior was the single plateau with pits. From the first episode to the last, all the rewarsd would be extremely close, like 26 +- 0.001, except for a few pits in between at -2000.* \n",
    "\n",
    "*In none of my runs did I ever see an agent ramp up to a nice convergence point at the height of his learning, which is what I was always striving to achieve.*"
   ]
  },
  {
   "cell_type": "markdown",
   "metadata": {},
   "source": [
    "**Question 4**: Briefly summarize your experience working on this project. You can use the following prompts for ideas.\n",
    "\n",
    "- What was the hardest part of the project? (e.g. getting started, plotting, specifying the task, etc.)\n",
    "- Did you find anything interesting in how the quadcopter or your agent behaved?\n",
    "\n",
    "**Answer**: *The hardest part is figuring out how to write the agent, until I realized that you guys provided one. Then it would be to tweak it to get the desired performance. I'm quite disappointed that I barely got the take-off and hover task. I tried other tasks, like one in which we give initial velocities and angular momentums and ask the agent to stabilize its flight, but this is far beyond its current capabilities.*\n",
    "\n",
    "*Once I realised that changing the architecture of the agent was pointless, I spent all my efforts on the reward function. This is where things started to change, but never did I hit the sweet spot where an agent actually learns something and converges to a good solution.*\n",
    "\n",
    "*Credits: Many of my ideas, like simplifying the agent and adding the velocity to the reward function, I obtained from reading and discussing in the slack channel. So credits go to Sercan Soydan, Bob Smith, "
   ]
  },
  {
   "cell_type": "code",
   "execution_count": null,
   "metadata": {},
   "outputs": [],
   "source": [
    "\n"
   ]
  },
  {
   "cell_type": "code",
   "execution_count": null,
   "metadata": {},
   "outputs": [],
   "source": []
  }
 ],
 "metadata": {
  "anaconda-cloud": {},
  "kernelspec": {
   "display_name": "Python 3",
   "language": "python",
   "name": "python3"
  },
  "language_info": {
   "codemirror_mode": {
    "name": "ipython",
    "version": 3
   },
   "file_extension": ".py",
   "mimetype": "text/x-python",
   "name": "python",
   "nbconvert_exporter": "python",
   "pygments_lexer": "ipython3",
   "version": "3.6.3"
  }
 },
 "nbformat": 4,
 "nbformat_minor": 2
}
